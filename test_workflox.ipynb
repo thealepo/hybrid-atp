{
 "cells": [
  {
   "cell_type": "code",
   "execution_count": null,
   "id": "8147230d",
   "metadata": {},
   "outputs": [],
   "source": [
    "from llm_layer.data_structures.base import LeanGoalState\n",
    "from llm_layer.models.lean_generator_model import LeanGenerator\n",
    "from llm_layer.models.reasoning_model import MathReasoner\n",
    "from validation_layer.validator import LeanValidator\n",
    "from search_layer.search import Search"
   ]
  },
  {
   "cell_type": "code",
   "execution_count": null,
   "id": "202e1682",
   "metadata": {},
   "outputs": [],
   "source": [
    "reasoner = MathReasoner(api_token=HUGGINGFACE_TOKEN)\n",
    "generator = LeanGenerator(api_token=HUGGINGFACE_TOKEN)\n",
    "\n",
    "validator = LeanValidator()"
   ]
  },
  {
   "cell_type": "code",
   "execution_count": null,
   "id": "318c2e0e",
   "metadata": {},
   "outputs": [],
   "source": [
    "test_goal = LeanGoalState(\n",
    "    goal=\"⊢ ∀ (n : ℕ), n + 0 = n\",\n",
    "    hypothesis={},  # no hypotheses\n",
    "    local_context=[],\n",
    "    proof_depth=0\n",
    ")"
   ]
  },
  {
   "cell_type": "code",
   "execution_count": null,
   "id": "f0aa384d",
   "metadata": {},
   "outputs": [],
   "source": [
    "search = Search(\n",
    "    reasoner=reasoner,\n",
    "    generator=generator,\n",
    "    validator=validator\n",
    ")"
   ]
  },
  {
   "cell_type": "code",
   "execution_count": null,
   "id": "c2e07337",
   "metadata": {},
   "outputs": [],
   "source": [
    "path = search.search(\n",
    "    state=test_goal,\n",
    "    max_depth=3,\n",
    "    max_iterations=50\n",
    ")"
   ]
  },
  {
   "cell_type": "code",
   "execution_count": null,
   "id": "50899c8f",
   "metadata": {},
   "outputs": [],
   "source": [
    "if path:\n",
    "    print('Y')\n",
    "    for step , tactic in enumerate(path , 1):\n",
    "        print(f'{step}: {tactic}')\n",
    "else:\n",
    "    print('N')"
   ]
  }
 ],
 "metadata": {
  "kernelspec": {
   "display_name": "venv",
   "language": "python",
   "name": "python3"
  },
  "language_info": {
   "name": "python",
   "version": "3.11.9"
  }
 },
 "nbformat": 4,
 "nbformat_minor": 5
}
