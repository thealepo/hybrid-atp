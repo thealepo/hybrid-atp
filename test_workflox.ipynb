{
 "cells": [
  {
   "cell_type": "code",
   "execution_count": 1,
   "id": "8147230d",
   "metadata": {},
   "outputs": [
    {
     "name": "stderr",
     "output_type": "stream",
     "text": [
      "c:\\Users\\Alex E. Sanchez\\Desktop\\Projects\\MAIN\\hybrid-ns-theorem-prover\\hybrid-atp\\venv\\Lib\\site-packages\\tqdm\\auto.py:21: TqdmWarning: IProgress not found. Please update jupyter and ipywidgets. See https://ipywidgets.readthedocs.io/en/stable/user_install.html\n",
      "  from .autonotebook import tqdm as notebook_tqdm\n"
     ]
    }
   ],
   "source": [
    "from llm_layer.data_structures.base import LeanGoalState\n",
    "from llm_layer.models.lean_generator_model import LeanGenerator\n",
    "from llm_layer.models.reasoning_model import MathReasoner\n",
    "from validation_layer.validator import LeanValidator\n",
    "from search_layer.search import Search"
   ]
  },
  {
   "cell_type": "code",
   "execution_count": 2,
   "id": "307819d8",
   "metadata": {},
   "outputs": [],
   "source": [
    "import os\n",
    "import sys\n",
    "from pathlib import Path\n",
    "from dotenv import load_dotenv\n",
    "\n",
    "load_dotenv()\n",
    "HF_TOKEN = os.getenv('HUGGINGFACE_TOKEN')\n"
   ]
  },
  {
   "cell_type": "code",
   "execution_count": 3,
   "id": "202e1682",
   "metadata": {},
   "outputs": [],
   "source": [
    "reasoner = MathReasoner(api_token=HF_TOKEN)\n",
    "generator = LeanGenerator(api_token=HF_TOKEN)\n",
    "\n",
    "validator = LeanValidator()"
   ]
  },
  {
   "cell_type": "code",
   "execution_count": 4,
   "id": "318c2e0e",
   "metadata": {},
   "outputs": [],
   "source": [
    "test_goal = LeanGoalState(\n",
    "    goal=\"⊢ ∀ (n : ℕ), n + 0 = n\",\n",
    "    hypothesis={},  # no hypotheses\n",
    "    local_context=[],\n",
    "    proof_depth=0\n",
    ")"
   ]
  },
  {
   "cell_type": "code",
   "execution_count": 5,
   "id": "f0aa384d",
   "metadata": {},
   "outputs": [],
   "source": [
    "search = Search(\n",
    "    reasoner=reasoner,\n",
    "    generator=generator,\n",
    "    validator=validator\n",
    ")"
   ]
  },
  {
   "cell_type": "code",
   "execution_count": 6,
   "id": "c2e07337",
   "metadata": {},
   "outputs": [
    {
     "name": "stdout",
     "output_type": "stream",
     "text": [
      "\n",
      "\n",
      "\n",
      "\n",
      "[{\n",
      "    \"tactic_code\": \"apply add_zero\",\n",
      "    \"tactic_type\": \"apply\",\n",
      "    \"justification\": \"Directly applies the add_zero lemma to the goal\",\n",
      "    \"priority\": 2.0,\n",
      "    \"expected_subgoals\": []\n",
      "  },\n",
      "  {\n",
      "    \"tactic_code\": \"rw add_zero\",\n",
      "    \"tactic_type\": \"rw\",\n",
      "    \"justification\": \"Rewrites the goal using the add_zero lemma\",\n",
      "    \"priority\": 1.8,\n",
      "    \"expected_subgoals\": []\n",
      "  },\n",
      "  {\n",
      "    \"tactic_code\": \"have h : n + 0 = n, from rfl\",\n",
      "    \"tactic_type\": \"have\",\n",
      "    \"justification\": \"Introduces a new hypothesis using rfl\",\n",
      "    \"priority\": 1.2,\n",
      "    \"expected_subgoals\": [\"⊢ n + 0 = n\"]\n",
      "  },\n",
      "  {\n",
      "    \"tactic_code\": \"simp only [add_zero]\",\n",
      "    \"tactic_type\": \"simp\",\n",
      "    \"justification\": \"Simplifies the goal using the add_zero lemma\",\n",
      "    \"priority\": 1.0,\n",
      "    \"expected_subgoals\": []\n",
      "  },\n",
      "  {\n",
      "    \"tactic_code\": \"rw [add_zero, add_zero]\",\n",
      "    \"tactic_type\": \"rw\",\n",
      "    \"justification\": \"Rewrites the goal using the add_zero lemma twice\",\n",
      "    \"priority\": 1.8,\n",
      "    \"expected_subgoals\": []\n",
      "  }]\n",
      "\n",
      "\n",
      "\n",
      "\n"
     ]
    },
    {
     "ename": "UnicodeEncodeError",
     "evalue": "'charmap' codec can't encode character '\\u22a2' in position 48: character maps to <undefined>",
     "output_type": "error",
     "traceback": [
      "\u001b[31m---------------------------------------------------------------------------\u001b[39m",
      "\u001b[31mUnicodeEncodeError\u001b[39m                        Traceback (most recent call last)",
      "\u001b[36mCell\u001b[39m\u001b[36m \u001b[39m\u001b[32mIn[6]\u001b[39m\u001b[32m, line 1\u001b[39m\n\u001b[32m----> \u001b[39m\u001b[32m1\u001b[39m path = \u001b[43msearch\u001b[49m\u001b[43m.\u001b[49m\u001b[43msearch\u001b[49m\u001b[43m(\u001b[49m\n\u001b[32m      2\u001b[39m \u001b[43m    \u001b[49m\u001b[43mstate\u001b[49m\u001b[43m=\u001b[49m\u001b[43mtest_goal\u001b[49m\u001b[43m,\u001b[49m\n\u001b[32m      3\u001b[39m \u001b[43m    \u001b[49m\u001b[43mmax_depth\u001b[49m\u001b[43m=\u001b[49m\u001b[32;43m3\u001b[39;49m\u001b[43m,\u001b[49m\n\u001b[32m      4\u001b[39m \u001b[43m    \u001b[49m\u001b[43mmax_iterations\u001b[49m\u001b[43m=\u001b[49m\u001b[32;43m50\u001b[39;49m\n\u001b[32m      5\u001b[39m \u001b[43m)\u001b[49m\n",
      "\u001b[36mFile \u001b[39m\u001b[32mc:\\Users\\Alex E. Sanchez\\Desktop\\Projects\\MAIN\\hybrid-ns-theorem-prover\\hybrid-atp\\search_layer\\search.py:51\u001b[39m, in \u001b[36mSearch.search\u001b[39m\u001b[34m(self, state, max_depth, max_iterations)\u001b[39m\n\u001b[32m     49\u001b[39m \u001b[38;5;66;03m# validate each candidate\u001b[39;00m\n\u001b[32m     50\u001b[39m \u001b[38;5;28;01mfor\u001b[39;00m candidate \u001b[38;5;129;01min\u001b[39;00m candidates:\n\u001b[32m---> \u001b[39m\u001b[32m51\u001b[39m     response = \u001b[38;5;28;43mself\u001b[39;49m\u001b[43m.\u001b[49m\u001b[43mvalidator\u001b[49m\u001b[43m.\u001b[49m\u001b[43mvalidate\u001b[49m\u001b[43m(\u001b[49m\n\u001b[32m     52\u001b[39m \u001b[43m        \u001b[49m\u001b[43mgoal_state\u001b[49m\u001b[43m=\u001b[49m\u001b[43mcurrent_state\u001b[49m\u001b[43m,\u001b[49m\n\u001b[32m     53\u001b[39m \u001b[43m        \u001b[49m\u001b[43mtactic_code\u001b[49m\u001b[43m=\u001b[49m\u001b[43mcandidate\u001b[49m\u001b[43m.\u001b[49m\u001b[43mtactic_code\u001b[49m\n\u001b[32m     54\u001b[39m \u001b[43m    \u001b[49m\u001b[43m)\u001b[49m\n\u001b[32m     56\u001b[39m     \u001b[38;5;66;03m# PROOF_FINISHED\u001b[39;00m\n\u001b[32m     57\u001b[39m     \u001b[38;5;28;01mif\u001b[39;00m response.result_type == ValidationResult.PROOF_FINISHED:\n",
      "\u001b[36mFile \u001b[39m\u001b[32mc:\\Users\\Alex E. Sanchez\\Desktop\\Projects\\MAIN\\hybrid-ns-theorem-prover\\hybrid-atp\\validation_layer\\validator.py:27\u001b[39m, in \u001b[36mLeanValidator.validate\u001b[39m\u001b[34m(self, goal_state, tactic_code)\u001b[39m\n\u001b[32m     26\u001b[39m \u001b[38;5;28;01mdef\u001b[39;00m\u001b[38;5;250m \u001b[39m\u001b[34mvalidate\u001b[39m(\u001b[38;5;28mself\u001b[39m , goal_state: LeanGoalState , tactic_code: \u001b[38;5;28mstr\u001b[39m) -> ValidationResponse:\n\u001b[32m---> \u001b[39m\u001b[32m27\u001b[39m     base_path = \u001b[43mgoal_to_file\u001b[49m\u001b[43m(\u001b[49m\u001b[43mgoal_state\u001b[49m\u001b[43m=\u001b[49m\u001b[43mgoal_state\u001b[49m\u001b[43m)\u001b[49m\n\u001b[32m     29\u001b[39m     \u001b[38;5;66;03m# temporary temp copy every attempt\u001b[39;00m\n\u001b[32m     30\u001b[39m     temp_dir = tempfile.gettempdir()\n",
      "\u001b[36mFile \u001b[39m\u001b[32mc:\\Users\\Alex E. Sanchez\\Desktop\\Projects\\MAIN\\hybrid-ns-theorem-prover\\hybrid-atp\\validation_layer\\utils.py:21\u001b[39m, in \u001b[36mgoal_to_file\u001b[39m\u001b[34m(goal_state)\u001b[39m\n\u001b[32m     14\u001b[39m goal_text = \u001b[33mf\u001b[39m\u001b[33m'''\u001b[39m\n\u001b[32m     15\u001b[39m \u001b[33mimport Mathlib\u001b[39m\n\u001b[32m     16\u001b[39m \n\u001b[32m     17\u001b[39m \u001b[33mtheorem temp_goal : \u001b[39m\u001b[38;5;132;01m{\u001b[39;00mgoal_state.goal\u001b[38;5;132;01m}\u001b[39;00m\u001b[33m := by\u001b[39m\n\u001b[32m     18\u001b[39m \u001b[33m\u001b[39m\u001b[33m'''\u001b[39m\n\u001b[32m     20\u001b[39m \u001b[38;5;28;01mwith\u001b[39;00m \u001b[38;5;28mopen\u001b[39m(file_path , \u001b[33m'\u001b[39m\u001b[33mw\u001b[39m\u001b[33m'\u001b[39m) \u001b[38;5;28;01mas\u001b[39;00m f:\n\u001b[32m---> \u001b[39m\u001b[32m21\u001b[39m     \u001b[43mf\u001b[49m\u001b[43m.\u001b[49m\u001b[43mwrite\u001b[49m\u001b[43m(\u001b[49m\u001b[43mgoal_text\u001b[49m\u001b[43m)\u001b[49m\n\u001b[32m     23\u001b[39m \u001b[38;5;28;01mreturn\u001b[39;00m file_path\n",
      "\u001b[36mFile \u001b[39m\u001b[32mC:\\Program Files\\WindowsApps\\PythonSoftwareFoundation.Python.3.11_3.11.2544.0_x64__qbz5n2kfra8p0\\Lib\\encodings\\cp1252.py:19\u001b[39m, in \u001b[36mIncrementalEncoder.encode\u001b[39m\u001b[34m(self, input, final)\u001b[39m\n\u001b[32m     18\u001b[39m \u001b[38;5;28;01mdef\u001b[39;00m\u001b[38;5;250m \u001b[39m\u001b[34mencode\u001b[39m(\u001b[38;5;28mself\u001b[39m, \u001b[38;5;28minput\u001b[39m, final=\u001b[38;5;28;01mFalse\u001b[39;00m):\n\u001b[32m---> \u001b[39m\u001b[32m19\u001b[39m     \u001b[38;5;28;01mreturn\u001b[39;00m \u001b[43mcodecs\u001b[49m\u001b[43m.\u001b[49m\u001b[43mcharmap_encode\u001b[49m\u001b[43m(\u001b[49m\u001b[38;5;28;43minput\u001b[39;49m\u001b[43m,\u001b[49m\u001b[38;5;28;43mself\u001b[39;49m\u001b[43m.\u001b[49m\u001b[43merrors\u001b[49m\u001b[43m,\u001b[49m\u001b[43mencoding_table\u001b[49m\u001b[43m)\u001b[49m[\u001b[32m0\u001b[39m]\n",
      "\u001b[31mUnicodeEncodeError\u001b[39m: 'charmap' codec can't encode character '\\u22a2' in position 48: character maps to <undefined>"
     ]
    }
   ],
   "source": [
    "path = search.search(\n",
    "    state=test_goal,\n",
    "    max_depth=3,\n",
    "    max_iterations=50\n",
    ")"
   ]
  },
  {
   "cell_type": "code",
   "execution_count": null,
   "id": "50899c8f",
   "metadata": {},
   "outputs": [],
   "source": [
    "if path:\n",
    "    print('Y')\n",
    "    for step , tactic in enumerate(path , 1):\n",
    "        print(f'{step}: {tactic}')\n",
    "else:\n",
    "    print('N')"
   ]
  }
 ],
 "metadata": {
  "kernelspec": {
   "display_name": "venv",
   "language": "python",
   "name": "python3"
  },
  "language_info": {
   "codemirror_mode": {
    "name": "ipython",
    "version": 3
   },
   "file_extension": ".py",
   "mimetype": "text/x-python",
   "name": "python",
   "nbconvert_exporter": "python",
   "pygments_lexer": "ipython3",
   "version": "3.11.9"
  }
 },
 "nbformat": 4,
 "nbformat_minor": 5
}
