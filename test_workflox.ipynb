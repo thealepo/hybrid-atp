{
 "cells": [
  {
   "cell_type": "code",
   "execution_count": 1,
   "id": "8147230d",
   "metadata": {},
   "outputs": [
    {
     "name": "stderr",
     "output_type": "stream",
     "text": [
      "c:\\Users\\Alex E. Sanchez\\Desktop\\Projects\\MAIN\\hybrid-ns-theorem-prover\\hybrid-atp\\venv\\Lib\\site-packages\\tqdm\\auto.py:21: TqdmWarning: IProgress not found. Please update jupyter and ipywidgets. See https://ipywidgets.readthedocs.io/en/stable/user_install.html\n",
      "  from .autonotebook import tqdm as notebook_tqdm\n"
     ]
    }
   ],
   "source": [
    "from llm_layer.data_structures.base import LeanGoalState\n",
    "from llm_layer.models.lean_generator_model import LeanGenerator\n",
    "from llm_layer.models.reasoning_model import MathReasoner\n",
    "from validation_layer.validator import LeanValidator\n",
    "from search_layer.search import Search"
   ]
  },
  {
   "cell_type": "code",
   "execution_count": 3,
   "id": "307819d8",
   "metadata": {},
   "outputs": [],
   "source": [
    "import os\n",
    "from dotenv import load_dotenv\n",
    "\n",
    "load_dotenv()\n",
    "HF_TOKEN = os.getenv('HUGGINGFACE_TOKEN')\n"
   ]
  },
  {
   "cell_type": "code",
   "execution_count": 4,
   "id": "202e1682",
   "metadata": {},
   "outputs": [],
   "source": [
    "reasoner = MathReasoner(api_token=HF_TOKEN)\n",
    "generator = LeanGenerator(api_token=HF_TOKEN)\n",
    "\n",
    "validator = LeanValidator()"
   ]
  },
  {
   "cell_type": "code",
   "execution_count": 5,
   "id": "318c2e0e",
   "metadata": {},
   "outputs": [],
   "source": [
    "test_goal = LeanGoalState(\n",
    "    goal=\"⊢ ∀ (n : ℕ), n + 0 = n\",\n",
    "    hypothesis={},  # no hypotheses\n",
    "    local_context=[],\n",
    "    proof_depth=0\n",
    ")"
   ]
  },
  {
   "cell_type": "code",
   "execution_count": 6,
   "id": "f0aa384d",
   "metadata": {},
   "outputs": [],
   "source": [
    "search = Search(\n",
    "    reasoner=reasoner,\n",
    "    generator=generator,\n",
    "    validator=validator\n",
    ")"
   ]
  },
  {
   "cell_type": "code",
   "execution_count": 7,
   "id": "c2e07337",
   "metadata": {},
   "outputs": [
    {
     "name": "stdout",
     "output_type": "stream",
     "text": [
      "\n",
      "\n",
      "\n",
      "\n",
      "[{\n",
      "    \"tactic_code\": \"apply add_zero\",\n",
      "    \"tactic_type\": \"apply\",\n",
      "    \"justification\": \"Directly applies the add_zero lemma to the goal\",\n",
      "    \"priority\": 2.0,\n",
      "    \"expected_subgoals\": []\n",
      "  },\n",
      "  {\n",
      "    \"tactic_code\": \"rw add_zero\",\n",
      "    \"tactic_type\": \"rw\",\n",
      "    \"justification\": \"Rewrites the goal using the add_zero lemma\",\n",
      "    \"priority\": 1.8,\n",
      "    \"expected_subgoals\": []\n",
      "  },\n",
      "  {\n",
      "    \"tactic_code\": \"have h : n + 0 = n, from rfl\",\n",
      "    \"tactic_type\": \"have\",\n",
      "    \"justification\": \"Introduces a new hypothesis using rfl\",\n",
      "    \"priority\": 1.0,\n",
      "    \"expected_subgoals\": [\"⊢ ∀ (n : ℕ), h\"]\n",
      "  },\n",
      "  {\n",
      "    \"tactic_code\": \"simp only [add_zero]\",\n",
      "    \"tactic_type\": \"simp\",\n",
      "    \"justification\": \"Simplifies the goal using the add_zero lemma\",\n",
      "    \"priority\": 0.5,\n",
      "    \"expected_subgoals\": []\n",
      "  },\n",
      "  {\n",
      "    \"tactic_code\": \"rw [add_zero, add_zero]\",\n",
      "    \"tactic_type\": \"rw\",\n",
      "    \"justification\": \"Rewrites the goal using the add_zero lemma twice\",\n",
      "    \"priority\": 1.8,\n",
      "    \"expected_subgoals\": []\n",
      "  }]\n",
      "\n",
      "\n",
      "\n",
      "\n"
     ]
    }
   ],
   "source": [
    "path = search.search(\n",
    "    state=test_goal,\n",
    "    max_depth=3,\n",
    "    max_iterations=50\n",
    ")"
   ]
  },
  {
   "cell_type": "code",
   "execution_count": 8,
   "id": "50899c8f",
   "metadata": {},
   "outputs": [
    {
     "name": "stdout",
     "output_type": "stream",
     "text": [
      "N\n"
     ]
    }
   ],
   "source": [
    "if path:\n",
    "    print('Y')\n",
    "    for step , tactic in enumerate(path , 1):\n",
    "        print(f'{step}: {tactic}')\n",
    "else:\n",
    "    print('N')"
   ]
  },
  {
   "cell_type": "code",
   "execution_count": null,
   "id": "e74faacd",
   "metadata": {},
   "outputs": [],
   "source": []
  }
 ],
 "metadata": {
  "kernelspec": {
   "display_name": "venv",
   "language": "python",
   "name": "python3"
  },
  "language_info": {
   "codemirror_mode": {
    "name": "ipython",
    "version": 3
   },
   "file_extension": ".py",
   "mimetype": "text/x-python",
   "name": "python",
   "nbconvert_exporter": "python",
   "pygments_lexer": "ipython3",
   "version": "3.11.9"
  }
 },
 "nbformat": 4,
 "nbformat_minor": 5
}
