{
 "cells": [
  {
   "cell_type": "code",
   "execution_count": 1,
   "id": "b44ea407",
   "metadata": {},
   "outputs": [
    {
     "name": "stderr",
     "output_type": "stream",
     "text": [
      "c:\\Users\\Alex E. Sanchez\\Desktop\\Projects\\MAIN\\hybrid-ns-theorem-prover\\hybrid-atp\\venv\\Lib\\site-packages\\tqdm\\auto.py:21: TqdmWarning: IProgress not found. Please update jupyter and ipywidgets. See https://ipywidgets.readthedocs.io/en/stable/user_install.html\n",
      "  from .autonotebook import tqdm as notebook_tqdm\n",
      "2025-10-29 18:13:00,627\tINFO util.py:154 -- Missing packages: ['ipywidgets']. Run `pip install -U ipywidgets`, then restart the notebook server for rich notebook output.\n"
     ]
    }
   ],
   "source": [
    "from lean_dojo import Theorem , Dojo , TracedRepo"
   ]
  },
  {
   "cell_type": "code",
   "execution_count": 2,
   "id": "47f8238f",
   "metadata": {},
   "outputs": [
    {
     "data": {
      "text/plain": [
       "['__annotations__',\n",
       " '__class__',\n",
       " '__dataclass_fields__',\n",
       " '__dataclass_params__',\n",
       " '__delattr__',\n",
       " '__dict__',\n",
       " '__dir__',\n",
       " '__doc__',\n",
       " '__eq__',\n",
       " '__format__',\n",
       " '__ge__',\n",
       " '__getattribute__',\n",
       " '__getstate__',\n",
       " '__gt__',\n",
       " '__hash__',\n",
       " '__init__',\n",
       " '__init_subclass__',\n",
       " '__le__',\n",
       " '__lt__',\n",
       " '__match_args__',\n",
       " '__module__',\n",
       " '__ne__',\n",
       " '__new__',\n",
       " '__post_init__',\n",
       " '__reduce__',\n",
       " '__reduce_ex__',\n",
       " '__repr__',\n",
       " '__setattr__',\n",
       " '__setstate__',\n",
       " '__sizeof__',\n",
       " '__str__',\n",
       " '__subclasshook__',\n",
       " '__weakref__',\n",
       " '_update_traced_files',\n",
       " 'check_sanity',\n",
       " 'from_traced_files',\n",
       " 'get_traced_file',\n",
       " 'get_traced_theorem',\n",
       " 'get_traced_theorems',\n",
       " 'load_from_disk',\n",
       " 'name',\n",
       " 'save_to_disk',\n",
       " 'show']"
      ]
     },
     "execution_count": 2,
     "metadata": {},
     "output_type": "execute_result"
    }
   ],
   "source": [
    "dir(TracedRepo)"
   ]
  },
  {
   "cell_type": "code",
   "execution_count": null,
   "id": "f5e04c62",
   "metadata": {},
   "outputs": [],
   "source": [
    "self.traced_repo = TracedRepo(repo)\n",
    "self.theorem = Theorem(repo, file_path, theorem_name)\n",
    "        \n",
    "self.traced_theorem = self.traced_repo.get_traced_theorem(self.theorem)"
   ]
  }
 ],
 "metadata": {
  "kernelspec": {
   "display_name": "venv",
   "language": "python",
   "name": "python3"
  },
  "language_info": {
   "codemirror_mode": {
    "name": "ipython",
    "version": 3
   },
   "file_extension": ".py",
   "mimetype": "text/x-python",
   "name": "python",
   "nbconvert_exporter": "python",
   "pygments_lexer": "ipython3",
   "version": "3.11.9"
  }
 },
 "nbformat": 4,
 "nbformat_minor": 5
}
