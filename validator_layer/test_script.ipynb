{
 "cells": [
  {
   "cell_type": "code",
   "execution_count": 1,
   "id": "c6ea7507",
   "metadata": {},
   "outputs": [],
   "source": [
    "import sys , os\n",
    "from pathlib import Path"
   ]
  },
  {
   "cell_type": "code",
   "execution_count": 2,
   "id": "e5fc3cde",
   "metadata": {},
   "outputs": [
    {
     "name": "stderr",
     "output_type": "stream",
     "text": [
      "c:\\Users\\Alex E. Sanchez\\Desktop\\Projects\\MAIN\\hybrid-ns-theorem-prover\\hybrid-atp\\venv\\Lib\\site-packages\\tqdm\\auto.py:21: TqdmWarning: IProgress not found. Please update jupyter and ipywidgets. See https://ipywidgets.readthedocs.io/en/stable/user_install.html\n",
      "  from .autonotebook import tqdm as notebook_tqdm\n",
      "2025-10-29 21:50:11,533\tINFO util.py:154 -- Missing packages: ['ipywidgets']. Run `pip install -U ipywidgets`, then restart the notebook server for rich notebook output.\n"
     ]
    }
   ],
   "source": [
    "from validator import LeanValidator , ValidationResult\n",
    "from utils import translation"
   ]
  },
  {
   "cell_type": "code",
   "execution_count": null,
   "id": "b4d4cf62",
   "metadata": {},
   "outputs": [],
   "source": [
    "REPO_PATH = '...'  # must make a local clone of mathlib4\n",
    "FILE_PATH = 'Mathlib/LinearAlgebra/Basis/VectorSpace.lean'\n",
    "THEOREM_NAME = 'range_ofSpan'"
   ]
  },
  {
   "cell_type": "code",
   "execution_count": 4,
   "id": "d2b5997b",
   "metadata": {},
   "outputs": [
    {
     "ename": "TypeError",
     "evalue": "LeanGitRepo.__init__() missing 1 required positional argument: 'commit'",
     "output_type": "error",
     "traceback": [
      "\u001b[31m---------------------------------------------------------------------------\u001b[39m",
      "\u001b[31mTypeError\u001b[39m                                 Traceback (most recent call last)",
      "\u001b[36mCell\u001b[39m\u001b[36m \u001b[39m\u001b[32mIn[4]\u001b[39m\u001b[32m, line 1\u001b[39m\n\u001b[32m----> \u001b[39m\u001b[32m1\u001b[39m validator = \u001b[43mLeanValidator\u001b[49m\u001b[43m(\u001b[49m\n\u001b[32m      2\u001b[39m \u001b[43m    \u001b[49m\u001b[43mrepo_path\u001b[49m\u001b[43m=\u001b[49m\u001b[43mREPO_PATH\u001b[49m\u001b[43m,\u001b[49m\n\u001b[32m      3\u001b[39m \u001b[43m    \u001b[49m\u001b[43mfile_path\u001b[49m\u001b[43m=\u001b[49m\u001b[43mFILE_PATH\u001b[49m\u001b[43m,\u001b[49m\n\u001b[32m      4\u001b[39m \u001b[43m    \u001b[49m\u001b[43mtheorem_name\u001b[49m\u001b[43m=\u001b[49m\u001b[43mTHEOREM_NAME\u001b[49m\n\u001b[32m      5\u001b[39m \u001b[43m)\u001b[49m\n",
      "\u001b[36mFile \u001b[39m\u001b[32mc:\\Users\\Alex E. Sanchez\\Desktop\\Projects\\MAIN\\hybrid-ns-theorem-prover\\hybrid-atp\\validator_layer\\validator.py:26\u001b[39m, in \u001b[36mLeanValidator.__init__\u001b[39m\u001b[34m(self, repo_path, file_path, theorem_name)\u001b[39m\n\u001b[32m     23\u001b[39m \u001b[38;5;28;01mdef\u001b[39;00m\u001b[38;5;250m \u001b[39m\u001b[34m__init__\u001b[39m(\u001b[38;5;28mself\u001b[39m , repo_path: \u001b[38;5;28mstr\u001b[39m , file_path , theorem_name):\n\u001b[32m     24\u001b[39m     \n\u001b[32m     25\u001b[39m     \u001b[38;5;66;03m# load repo\u001b[39;00m\n\u001b[32m---> \u001b[39m\u001b[32m26\u001b[39m     \u001b[38;5;28mself\u001b[39m.repo = \u001b[43mLeanGitRepo\u001b[49m\u001b[43m(\u001b[49m\u001b[43mrepo_path\u001b[49m\u001b[43m)\u001b[49m\n\u001b[32m     27\u001b[39m     \u001b[38;5;28mself\u001b[39m.theorem = Theorem(\u001b[38;5;28mself\u001b[39m.repo , file_path , theorem_name)\n\u001b[32m     29\u001b[39m     \u001b[38;5;66;03m# load traced theorem\u001b[39;00m\n",
      "\u001b[31mTypeError\u001b[39m: LeanGitRepo.__init__() missing 1 required positional argument: 'commit'"
     ]
    }
   ],
   "source": [
    "validator = LeanValidator(\n",
    "    repo_path=REPO_PATH,\n",
    "    file_path=FILE_PATH,\n",
    "    theorem_name=THEOREM_NAME\n",
    ")"
   ]
  },
  {
   "cell_type": "code",
   "execution_count": null,
   "id": "721a1d92",
   "metadata": {},
   "outputs": [],
   "source": []
  }
 ],
 "metadata": {
  "kernelspec": {
   "display_name": "venv",
   "language": "python",
   "name": "python3"
  },
  "language_info": {
   "codemirror_mode": {
    "name": "ipython",
    "version": 3
   },
   "file_extension": ".py",
   "mimetype": "text/x-python",
   "name": "python",
   "nbconvert_exporter": "python",
   "pygments_lexer": "ipython3",
   "version": "3.11.9"
  }
 },
 "nbformat": 4,
 "nbformat_minor": 5
}
