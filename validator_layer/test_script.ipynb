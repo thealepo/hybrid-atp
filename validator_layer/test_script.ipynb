{
 "cells": [
  {
   "cell_type": "code",
   "execution_count": null,
   "id": "c6ea7507",
   "metadata": {},
   "outputs": [],
   "source": [
    "import sys , os\n",
    "from pathlib import Path"
   ]
  },
  {
   "cell_type": "code",
   "execution_count": null,
   "id": "e5fc3cde",
   "metadata": {},
   "outputs": [],
   "source": [
    "from validator import LeanValidator , ValidationResult\n",
    "from utils import translation"
   ]
  },
  {
   "cell_type": "code",
   "execution_count": null,
   "id": "453f1668",
   "metadata": {},
   "outputs": [],
   "source": [
    "from dotenv import load_dotenv"
   ]
  },
  {
   "cell_type": "code",
   "execution_count": null,
   "id": "b4d4cf62",
   "metadata": {},
   "outputs": [],
   "source": [
    "load_dotenv()\n",
    "LEAN_REPO_PATH = 'https://github.com/leanprover-community/mathlib4'  # must make a local clone of mathlib4\n",
    "FILE_PATH = 'Mathlib/LinearAlgebra/Basis/VectorSpace.lean'\n",
    "THEOREM_NAME = 'range_ofSpan'"
   ]
  },
  {
   "cell_type": "code",
   "execution_count": null,
   "id": "d2b5997b",
   "metadata": {},
   "outputs": [],
   "source": [
    "validator = LeanValidator(\n",
    "    repo_path=LEAN_REPO_PATH,\n",
    "    file_path=FILE_PATH,\n",
    "    theorem_name=THEOREM_NAME\n",
    ")"
   ]
  },
  {
   "cell_type": "code",
   "execution_count": null,
   "id": "721a1d92",
   "metadata": {},
   "outputs": [],
   "source": []
  }
 ],
 "metadata": {
  "kernelspec": {
   "display_name": "venv",
   "language": "python",
   "name": "python3"
  },
  "language_info": {
   "codemirror_mode": {
    "name": "ipython",
    "version": 3
   },
   "file_extension": ".py",
   "mimetype": "text/x-python",
   "name": "python",
   "nbconvert_exporter": "python",
   "pygments_lexer": "ipython3",
   "version": "3.11.9"
  }
 },
 "nbformat": 4,
 "nbformat_minor": 5
}
