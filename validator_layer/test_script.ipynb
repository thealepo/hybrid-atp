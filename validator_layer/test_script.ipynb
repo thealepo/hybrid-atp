{
 "cells": [
  {
   "cell_type": "code",
   "execution_count": 1,
   "id": "c6ea7507",
   "metadata": {},
   "outputs": [],
   "source": [
    "import sys , os\n",
    "from pathlib import Path"
   ]
  },
  {
   "cell_type": "code",
   "execution_count": 2,
   "id": "e5fc3cde",
   "metadata": {},
   "outputs": [
    {
     "name": "stderr",
     "output_type": "stream",
     "text": [
      "c:\\Users\\Alex E. Sanchez\\Desktop\\Projects\\MAIN\\hybrid-ns-theorem-prover\\hybrid-atp\\venv\\Lib\\site-packages\\tqdm\\auto.py:21: TqdmWarning: IProgress not found. Please update jupyter and ipywidgets. See https://ipywidgets.readthedocs.io/en/stable/user_install.html\n",
      "  from .autonotebook import tqdm as notebook_tqdm\n",
      "2025-10-30 07:21:29,228\tINFO util.py:154 -- Missing packages: ['ipywidgets']. Run `pip install -U ipywidgets`, then restart the notebook server for rich notebook output.\n"
     ]
    }
   ],
   "source": [
    "from validator import LeanValidator , ValidationResult\n",
    "from utils import translation"
   ]
  },
  {
   "cell_type": "code",
   "execution_count": 3,
   "id": "453f1668",
   "metadata": {},
   "outputs": [],
   "source": [
    "from dotenv import load_dotenv"
   ]
  },
  {
   "cell_type": "code",
   "execution_count": 4,
   "id": "b4d4cf62",
   "metadata": {},
   "outputs": [],
   "source": [
    "load_dotenv()\n",
    "LEAN_REPO_PATH = 'https://github.com/leanprover-community/mathlib4.git'  # must make a local clone of mathlib4\n",
    "FILE_PATH = 'Mathlib/LinearAlgebra/Basis/VectorSpace.lean'\n",
    "THEOREM_NAME = 'range_ofSpan'"
   ]
  },
  {
   "cell_type": "code",
   "execution_count": 5,
   "id": "d2b5997b",
   "metadata": {},
   "outputs": [
    {
     "ename": "UnknownObjectException",
     "evalue": "404 {\"message\": \"Not Found\", \"documentation_url\": \"https://docs.github.com/rest/repos/repos#get-a-repository\", \"status\": \"404\"}",
     "output_type": "error",
     "traceback": [
      "\u001b[31m---------------------------------------------------------------------------\u001b[39m",
      "\u001b[31mUnknownObjectException\u001b[39m                    Traceback (most recent call last)",
      "\u001b[36mCell\u001b[39m\u001b[36m \u001b[39m\u001b[32mIn[5]\u001b[39m\u001b[32m, line 1\u001b[39m\n\u001b[32m----> \u001b[39m\u001b[32m1\u001b[39m validator = \u001b[43mLeanValidator\u001b[49m\u001b[43m(\u001b[49m\n\u001b[32m      2\u001b[39m \u001b[43m    \u001b[49m\u001b[43mrepo_path\u001b[49m\u001b[43m=\u001b[49m\u001b[43mLEAN_REPO_PATH\u001b[49m\u001b[43m,\u001b[49m\n\u001b[32m      3\u001b[39m \u001b[43m    \u001b[49m\u001b[43mfile_path\u001b[49m\u001b[43m=\u001b[49m\u001b[43mFILE_PATH\u001b[49m\u001b[43m,\u001b[49m\n\u001b[32m      4\u001b[39m \u001b[43m    \u001b[49m\u001b[43mtheorem_name\u001b[49m\u001b[43m=\u001b[49m\u001b[43mTHEOREM_NAME\u001b[49m\n\u001b[32m      5\u001b[39m \u001b[43m)\u001b[49m\n",
      "\u001b[36mFile \u001b[39m\u001b[32mc:\\Users\\Alex E. Sanchez\\Desktop\\Projects\\MAIN\\hybrid-ns-theorem-prover\\hybrid-atp\\validator_layer\\validator.py:30\u001b[39m, in \u001b[36mLeanValidator.__init__\u001b[39m\u001b[34m(self, repo_path, file_path, theorem_name)\u001b[39m\n\u001b[32m     27\u001b[39m \u001b[38;5;28;01mdef\u001b[39;00m\u001b[38;5;250m \u001b[39m\u001b[34m__init__\u001b[39m(\u001b[38;5;28mself\u001b[39m , repo_path: \u001b[38;5;28mstr\u001b[39m , file_path , theorem_name):\n\u001b[32m     28\u001b[39m     \n\u001b[32m     29\u001b[39m     \u001b[38;5;66;03m# load repo\u001b[39;00m\n\u001b[32m---> \u001b[39m\u001b[32m30\u001b[39m     \u001b[38;5;28mself\u001b[39m.repo = \u001b[43mLeanGitRepo\u001b[49m\u001b[43m(\u001b[49m\u001b[43mrepo_path\u001b[49m\u001b[43m \u001b[49m\u001b[43m,\u001b[49m\u001b[43m \u001b[49m\u001b[43mcommit\u001b[49m\u001b[43m=\u001b[49m\u001b[33;43m'\u001b[39;49m\u001b[33;43mHEAD\u001b[39;49m\u001b[33;43m'\u001b[39;49m\u001b[43m)\u001b[49m\n\u001b[32m     31\u001b[39m     \u001b[38;5;28mself\u001b[39m.theorem = Theorem(\u001b[38;5;28mself\u001b[39m.repo , file_path , theorem_name)\n\u001b[32m     33\u001b[39m     \u001b[38;5;66;03m# load traced theorem\u001b[39;00m\n",
      "\u001b[36mFile \u001b[39m\u001b[32m<string>:5\u001b[39m, in \u001b[36m__init__\u001b[39m\u001b[34m(self, url, commit)\u001b[39m\n",
      "\u001b[36mFile \u001b[39m\u001b[32mc:\\Users\\Alex E. Sanchez\\Desktop\\Projects\\MAIN\\hybrid-ns-theorem-prover\\hybrid-atp\\venv\\Lib\\site-packages\\lean_dojo\\data_extraction\\lean.py:551\u001b[39m, in \u001b[36mLeanGitRepo.__post_init__\u001b[39m\u001b[34m(self)\u001b[39m\n\u001b[32m    549\u001b[39m \u001b[38;5;66;03m# set repo and commit\u001b[39;00m\n\u001b[32m    550\u001b[39m \u001b[38;5;28;01mif\u001b[39;00m repo_type == RepoType.GITHUB:\n\u001b[32m--> \u001b[39m\u001b[32m551\u001b[39m     repo = \u001b[43murl_to_repo\u001b[49m\u001b[43m(\u001b[49m\u001b[38;5;28;43mself\u001b[39;49m\u001b[43m.\u001b[49m\u001b[43murl\u001b[49m\u001b[43m,\u001b[49m\u001b[43m \u001b[49m\u001b[43mrepo_type\u001b[49m\u001b[43m=\u001b[49m\u001b[43mrepo_type\u001b[49m\u001b[43m)\u001b[49m\n\u001b[32m    552\u001b[39m \u001b[38;5;28;01melse\u001b[39;00m:\n\u001b[32m    553\u001b[39m     \u001b[38;5;66;03m# get repo from cache\u001b[39;00m\n\u001b[32m    554\u001b[39m     rel_cache_dir = \u001b[38;5;28;01mlambda\u001b[39;00m url, commit: Path(\n\u001b[32m    555\u001b[39m         \u001b[33mf\u001b[39m\u001b[33m\"\u001b[39m\u001b[38;5;132;01m{\u001b[39;00mREPO_CACHE_PREFIX\u001b[38;5;132;01m}\u001b[39;00m\u001b[33m/\u001b[39m\u001b[38;5;132;01m{\u001b[39;00m_format_cache_dirname(url,\u001b[38;5;250m \u001b[39mcommit)\u001b[38;5;132;01m}\u001b[39;00m\u001b[33m/\u001b[39m\u001b[38;5;132;01m{\u001b[39;00m\u001b[38;5;28mself\u001b[39m.name\u001b[38;5;132;01m}\u001b[39;00m\u001b[33m\"\u001b[39m\n\u001b[32m    556\u001b[39m     )\n",
      "\u001b[36mFile \u001b[39m\u001b[32mc:\\Users\\Alex E. Sanchez\\Desktop\\Projects\\MAIN\\hybrid-ns-theorem-prover\\hybrid-atp\\venv\\Lib\\site-packages\\lean_dojo\\data_extraction\\lean.py:169\u001b[39m, in \u001b[36murl_to_repo\u001b[39m\u001b[34m(url, num_retries, repo_type, tmp_dir)\u001b[39m\n\u001b[32m    167\u001b[39m \u001b[38;5;28;01mexcept\u001b[39;00m \u001b[38;5;167;01mException\u001b[39;00m \u001b[38;5;28;01mas\u001b[39;00m ex:\n\u001b[32m    168\u001b[39m     \u001b[38;5;28;01mif\u001b[39;00m num_retries <= \u001b[32m0\u001b[39m:\n\u001b[32m--> \u001b[39m\u001b[32m169\u001b[39m         \u001b[38;5;28;01mraise\u001b[39;00m ex\n\u001b[32m    170\u001b[39m     num_retries -= \u001b[32m1\u001b[39m\n\u001b[32m    171\u001b[39m     logger.debug(\u001b[33mf\u001b[39m\u001b[33m'\u001b[39m\u001b[33murl_to_repo(\u001b[39m\u001b[33m\"\u001b[39m\u001b[38;5;132;01m{\u001b[39;00murl\u001b[38;5;132;01m}\u001b[39;00m\u001b[33m\"\u001b[39m\u001b[33m) failed. Retrying...\u001b[39m\u001b[33m'\u001b[39m)\n",
      "\u001b[36mFile \u001b[39m\u001b[32mc:\\Users\\Alex E. Sanchez\\Desktop\\Projects\\MAIN\\hybrid-ns-theorem-prover\\hybrid-atp\\venv\\Lib\\site-packages\\lean_dojo\\data_extraction\\lean.py:158\u001b[39m, in \u001b[36murl_to_repo\u001b[39m\u001b[34m(url, num_retries, repo_type, tmp_dir)\u001b[39m\n\u001b[32m    156\u001b[39m \u001b[38;5;28;01mtry\u001b[39;00m:\n\u001b[32m    157\u001b[39m     \u001b[38;5;28;01mif\u001b[39;00m repo_type == RepoType.GITHUB:\n\u001b[32m--> \u001b[39m\u001b[32m158\u001b[39m         \u001b[38;5;28;01mreturn\u001b[39;00m \u001b[43mGITHUB\u001b[49m\u001b[43m.\u001b[49m\u001b[43mget_repo\u001b[49m\u001b[43m(\u001b[49m\u001b[33;43m\"\u001b[39;49m\u001b[33;43m/\u001b[39;49m\u001b[33;43m\"\u001b[39;49m\u001b[43m.\u001b[49m\u001b[43mjoin\u001b[49m\u001b[43m(\u001b[49m\u001b[43murl\u001b[49m\u001b[43m.\u001b[49m\u001b[43msplit\u001b[49m\u001b[43m(\u001b[49m\u001b[33;43m\"\u001b[39;49m\u001b[33;43m/\u001b[39;49m\u001b[33;43m\"\u001b[39;49m\u001b[43m)\u001b[49m\u001b[43m[\u001b[49m\u001b[43m-\u001b[49m\u001b[32;43m2\u001b[39;49m\u001b[43m:\u001b[49m\u001b[43m]\u001b[49m\u001b[43m)\u001b[49m\u001b[43m)\u001b[49m\n\u001b[32m    159\u001b[39m     \u001b[38;5;28;01mwith\u001b[39;00m working_directory(tmp_dir):\n\u001b[32m    160\u001b[39m         repo_name = os.path.basename(url)\n",
      "\u001b[36mFile \u001b[39m\u001b[32mc:\\Users\\Alex E. Sanchez\\Desktop\\Projects\\MAIN\\hybrid-ns-theorem-prover\\hybrid-atp\\venv\\Lib\\site-packages\\github\\MainClass.py:479\u001b[39m, in \u001b[36mGithub.get_repo\u001b[39m\u001b[34m(self, full_name_or_id, lazy)\u001b[39m\n\u001b[32m    477\u001b[39m \u001b[38;5;28;01mif\u001b[39;00m lazy:\n\u001b[32m    478\u001b[39m     \u001b[38;5;28;01mreturn\u001b[39;00m github.Repository.Repository(\u001b[38;5;28mself\u001b[39m.__requester, {}, {\u001b[33m\"\u001b[39m\u001b[33murl\u001b[39m\u001b[33m\"\u001b[39m: url}, completed=\u001b[38;5;28;01mFalse\u001b[39;00m)\n\u001b[32m--> \u001b[39m\u001b[32m479\u001b[39m headers, data = \u001b[38;5;28;43mself\u001b[39;49m\u001b[43m.\u001b[49m\u001b[43m__requester\u001b[49m\u001b[43m.\u001b[49m\u001b[43mrequestJsonAndCheck\u001b[49m\u001b[43m(\u001b[49m\u001b[33;43m\"\u001b[39;49m\u001b[33;43mGET\u001b[39;49m\u001b[33;43m\"\u001b[39;49m\u001b[43m,\u001b[49m\u001b[43m \u001b[49m\u001b[43murl\u001b[49m\u001b[43m)\u001b[49m\n\u001b[32m    480\u001b[39m \u001b[38;5;28;01mreturn\u001b[39;00m github.Repository.Repository(\u001b[38;5;28mself\u001b[39m.__requester, headers, data, completed=\u001b[38;5;28;01mTrue\u001b[39;00m)\n",
      "\u001b[36mFile \u001b[39m\u001b[32mc:\\Users\\Alex E. Sanchez\\Desktop\\Projects\\MAIN\\hybrid-ns-theorem-prover\\hybrid-atp\\venv\\Lib\\site-packages\\github\\Requester.py:623\u001b[39m, in \u001b[36mRequester.requestJsonAndCheck\u001b[39m\u001b[34m(self, verb, url, parameters, headers, input, follow_302_redirect)\u001b[39m\n\u001b[32m    605\u001b[39m \u001b[38;5;28;01mdef\u001b[39;00m\u001b[38;5;250m \u001b[39m\u001b[34mrequestJsonAndCheck\u001b[39m(\n\u001b[32m    606\u001b[39m     \u001b[38;5;28mself\u001b[39m,\n\u001b[32m    607\u001b[39m     verb: \u001b[38;5;28mstr\u001b[39m,\n\u001b[32m   (...)\u001b[39m\u001b[32m    612\u001b[39m     follow_302_redirect: \u001b[38;5;28mbool\u001b[39m = \u001b[38;5;28;01mFalse\u001b[39;00m,\n\u001b[32m    613\u001b[39m ) -> \u001b[38;5;28mtuple\u001b[39m[\u001b[38;5;28mdict\u001b[39m[\u001b[38;5;28mstr\u001b[39m, Any], Any]:\n\u001b[32m    614\u001b[39m \u001b[38;5;250m    \u001b[39m\u001b[33;03m\"\"\"\u001b[39;00m\n\u001b[32m    615\u001b[39m \u001b[33;03m    Send a request with JSON body.\u001b[39;00m\n\u001b[32m    616\u001b[39m \n\u001b[32m   (...)\u001b[39m\u001b[32m    621\u001b[39m \n\u001b[32m    622\u001b[39m \u001b[33;03m    \"\"\"\u001b[39;00m\n\u001b[32m--> \u001b[39m\u001b[32m623\u001b[39m     \u001b[38;5;28;01mreturn\u001b[39;00m \u001b[38;5;28;43mself\u001b[39;49m\u001b[43m.\u001b[49m\u001b[43m__check\u001b[49m\u001b[43m(\u001b[49m\n\u001b[32m    624\u001b[39m \u001b[43m        \u001b[49m\u001b[43m*\u001b[49m\u001b[38;5;28;43mself\u001b[39;49m\u001b[43m.\u001b[49m\u001b[43mrequestJson\u001b[49m\u001b[43m(\u001b[49m\n\u001b[32m    625\u001b[39m \u001b[43m            \u001b[49m\u001b[43mverb\u001b[49m\u001b[43m,\u001b[49m\n\u001b[32m    626\u001b[39m \u001b[43m            \u001b[49m\u001b[43murl\u001b[49m\u001b[43m,\u001b[49m\n\u001b[32m    627\u001b[39m \u001b[43m            \u001b[49m\u001b[43mparameters\u001b[49m\u001b[43m,\u001b[49m\n\u001b[32m    628\u001b[39m \u001b[43m            \u001b[49m\u001b[43mheaders\u001b[49m\u001b[43m,\u001b[49m\n\u001b[32m    629\u001b[39m \u001b[43m            \u001b[49m\u001b[38;5;28;43minput\u001b[39;49m\u001b[43m,\u001b[49m\n\u001b[32m    630\u001b[39m \u001b[43m            \u001b[49m\u001b[38;5;28;43mself\u001b[39;49m\u001b[43m.\u001b[49m\u001b[43m__customConnection\u001b[49m\u001b[43m(\u001b[49m\u001b[43murl\u001b[49m\u001b[43m)\u001b[49m\u001b[43m,\u001b[49m\n\u001b[32m    631\u001b[39m \u001b[43m            \u001b[49m\u001b[43mfollow_302_redirect\u001b[49m\u001b[43m=\u001b[49m\u001b[43mfollow_302_redirect\u001b[49m\u001b[43m,\u001b[49m\n\u001b[32m    632\u001b[39m \u001b[43m        \u001b[49m\u001b[43m)\u001b[49m\n\u001b[32m    633\u001b[39m \u001b[43m    \u001b[49m\u001b[43m)\u001b[49m\n",
      "\u001b[36mFile \u001b[39m\u001b[32mc:\\Users\\Alex E. Sanchez\\Desktop\\Projects\\MAIN\\hybrid-ns-theorem-prover\\hybrid-atp\\venv\\Lib\\site-packages\\github\\Requester.py:853\u001b[39m, in \u001b[36mRequester.__check\u001b[39m\u001b[34m(self, status, responseHeaders, output)\u001b[39m\n\u001b[32m    851\u001b[39m data = \u001b[38;5;28mself\u001b[39m.__structuredFromJson(output)\n\u001b[32m    852\u001b[39m \u001b[38;5;28;01mif\u001b[39;00m status >= \u001b[32m400\u001b[39m:\n\u001b[32m--> \u001b[39m\u001b[32m853\u001b[39m     \u001b[38;5;28;01mraise\u001b[39;00m \u001b[38;5;28mself\u001b[39m.createException(status, responseHeaders, data)\n\u001b[32m    854\u001b[39m \u001b[38;5;28;01mreturn\u001b[39;00m responseHeaders, data\n",
      "\u001b[31mUnknownObjectException\u001b[39m: 404 {\"message\": \"Not Found\", \"documentation_url\": \"https://docs.github.com/rest/repos/repos#get-a-repository\", \"status\": \"404\"}"
     ]
    }
   ],
   "source": [
    "validator = LeanValidator(\n",
    "    repo_path=LEAN_REPO_PATH,\n",
    "    file_path=FILE_PATH,\n",
    "    theorem_name=THEOREM_NAME\n",
    ")"
   ]
  },
  {
   "cell_type": "code",
   "execution_count": null,
   "id": "721a1d92",
   "metadata": {},
   "outputs": [],
   "source": []
  }
 ],
 "metadata": {
  "kernelspec": {
   "display_name": "venv",
   "language": "python",
   "name": "python3"
  },
  "language_info": {
   "codemirror_mode": {
    "name": "ipython",
    "version": 3
   },
   "file_extension": ".py",
   "mimetype": "text/x-python",
   "name": "python",
   "nbconvert_exporter": "python",
   "pygments_lexer": "ipython3",
   "version": "3.11.9"
  }
 },
 "nbformat": 4,
 "nbformat_minor": 5
}
