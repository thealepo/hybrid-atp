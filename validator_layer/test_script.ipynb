{
 "cells": [
  {
   "cell_type": "code",
   "execution_count": null,
   "id": "e5fc3cde",
   "metadata": {},
   "outputs": [],
   "source": [
    "from validator import LeanValidator , ValidationResult\n",
    "from utils import translation"
   ]
  },
  {
   "cell_type": "code",
   "execution_count": null,
   "id": "d2b5997b",
   "metadata": {},
   "outputs": [],
   "source": [
    "validator = LeanValidator(\n",
    "    file_path='Mathlib/LinearAlgebra/Basis/VectorSpace.lean',\n",
    "    theorem_name='range_ofSpan'\n",
    ")"
   ]
  },
  {
   "cell_type": "code",
   "execution_count": null,
   "id": "721a1d92",
   "metadata": {},
   "outputs": [],
   "source": []
  }
 ],
 "metadata": {
  "kernelspec": {
   "display_name": "venv",
   "language": "python",
   "name": "python3"
  },
  "language_info": {
   "codemirror_mode": {
    "name": "ipython",
    "version": 3
   },
   "file_extension": ".py",
   "mimetype": "text/x-python",
   "name": "python",
   "nbconvert_exporter": "python",
   "pygments_lexer": "ipython3",
   "version": "3.11.9"
  }
 },
 "nbformat": 4,
 "nbformat_minor": 5
}
