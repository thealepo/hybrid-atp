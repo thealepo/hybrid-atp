{
 "cells": [
  {
   "cell_type": "code",
   "execution_count": 3,
   "id": "e5fc3cde",
   "metadata": {},
   "outputs": [],
   "source": [
    "from validator import LeanValidator , ValidationResult\n",
    "from utils import translation"
   ]
  },
  {
   "cell_type": "code",
   "execution_count": 4,
   "id": "d2b5997b",
   "metadata": {},
   "outputs": [
    {
     "ename": "TypeError",
     "evalue": "TracedRepo.__init__() missing 4 required positional arguments: 'dependencies', 'root_dir', 'traced_files', and 'traced_files_graph'",
     "output_type": "error",
     "traceback": [
      "\u001b[31m---------------------------------------------------------------------------\u001b[39m",
      "\u001b[31mTypeError\u001b[39m                                 Traceback (most recent call last)",
      "\u001b[36mCell\u001b[39m\u001b[36m \u001b[39m\u001b[32mIn[4]\u001b[39m\u001b[32m, line 1\u001b[39m\n\u001b[32m----> \u001b[39m\u001b[32m1\u001b[39m validator = \u001b[43mLeanValidator\u001b[49m\u001b[43m(\u001b[49m\n\u001b[32m      2\u001b[39m \u001b[43m    \u001b[49m\u001b[43mfile_path\u001b[49m\u001b[43m=\u001b[49m\u001b[33;43m'\u001b[39;49m\u001b[33;43mMathlib/LinearAlgebra/Basis/VectorSpace.lean\u001b[39;49m\u001b[33;43m'\u001b[39;49m\u001b[43m,\u001b[49m\n\u001b[32m      3\u001b[39m \u001b[43m    \u001b[49m\u001b[43mtheorem_name\u001b[49m\u001b[43m=\u001b[49m\u001b[33;43m'\u001b[39;49m\u001b[33;43mrange_ofSpan\u001b[39;49m\u001b[33;43m'\u001b[39;49m\n\u001b[32m      4\u001b[39m \u001b[43m)\u001b[49m\n",
      "\u001b[36mFile \u001b[39m\u001b[32mc:\\Users\\Alex E. Sanchez\\Desktop\\Projects\\MAIN\\hybrid-ns-theorem-prover\\hybrid-atp\\validator_layer\\validator.py:45\u001b[39m, in \u001b[36mLeanValidator.__init__\u001b[39m\u001b[34m(self, file_path, theorem_name, repo_url)\u001b[39m\n\u001b[32m     42\u001b[39m \u001b[38;5;28mself\u001b[39m.theorem = \u001b[38;5;28mself\u001b[39m.lean_wrapper.get_theorem(file_path=file_path , theorem_name=theorem_name)\n\u001b[32m     44\u001b[39m \u001b[38;5;66;03m# traced repo\u001b[39;00m\n\u001b[32m---> \u001b[39m\u001b[32m45\u001b[39m \u001b[38;5;28mself\u001b[39m.traced_repo = \u001b[43mTracedRepo\u001b[49m\u001b[43m(\u001b[49m\u001b[38;5;28;43mself\u001b[39;49m\u001b[43m.\u001b[49m\u001b[43mlean_wrapper\u001b[49m\u001b[43m.\u001b[49m\u001b[43mrepo\u001b[49m\u001b[43m)\u001b[49m\n\u001b[32m     46\u001b[39m \u001b[38;5;28mself\u001b[39m.traced_theorem = \u001b[38;5;28mself\u001b[39m.traced_repo.get_traced_theorem(\u001b[38;5;28mself\u001b[39m.theorem)\n\u001b[32m     48\u001b[39m \u001b[38;5;66;03m# load dojo\u001b[39;00m\n",
      "\u001b[31mTypeError\u001b[39m: TracedRepo.__init__() missing 4 required positional arguments: 'dependencies', 'root_dir', 'traced_files', and 'traced_files_graph'"
     ]
    }
   ],
   "source": [
    "validator = LeanValidator(\n",
    "    file_path='Mathlib/LinearAlgebra/Basis/VectorSpace.lean',\n",
    "    theorem_name='range_ofSpan'\n",
    ")"
   ]
  },
  {
   "cell_type": "code",
   "execution_count": null,
   "id": "721a1d92",
   "metadata": {},
   "outputs": [],
   "source": []
  }
 ],
 "metadata": {
  "kernelspec": {
   "display_name": "venv",
   "language": "python",
   "name": "python3"
  },
  "language_info": {
   "codemirror_mode": {
    "name": "ipython",
    "version": 3
   },
   "file_extension": ".py",
   "mimetype": "text/x-python",
   "name": "python",
   "nbconvert_exporter": "python",
   "pygments_lexer": "ipython3",
   "version": "3.11.9"
  }
 },
 "nbformat": 4,
 "nbformat_minor": 5
}
