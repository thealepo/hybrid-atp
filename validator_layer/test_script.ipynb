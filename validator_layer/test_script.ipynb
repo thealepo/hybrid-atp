{
 "cells": [
  {
   "cell_type": "code",
   "execution_count": 1,
   "id": "e5fc3cde",
   "metadata": {},
   "outputs": [
    {
     "name": "stderr",
     "output_type": "stream",
     "text": [
      "c:\\Users\\Alex E. Sanchez\\Desktop\\Projects\\MAIN\\hybrid-ns-theorem-prover\\hybrid-atp\\venv\\Lib\\site-packages\\tqdm\\auto.py:21: TqdmWarning: IProgress not found. Please update jupyter and ipywidgets. See https://ipywidgets.readthedocs.io/en/stable/user_install.html\n",
      "  from .autonotebook import tqdm as notebook_tqdm\n",
      "2025-10-30 23:46:32,613\tINFO util.py:154 -- Missing packages: ['ipywidgets']. Run `pip install -U ipywidgets`, then restart the notebook server for rich notebook output.\n"
     ]
    }
   ],
   "source": [
    "from validator import LeanValidator , ValidationResult\n",
    "from utils import translation"
   ]
  },
  {
   "cell_type": "code",
   "execution_count": 2,
   "id": "d2b5997b",
   "metadata": {},
   "outputs": [],
   "source": [
    "validator = LeanValidator(\n",
    "    file_path='Mathlib/LinearAlgebra/Basis/VectorSpace.lean',\n",
    "    theorem_name='range_ofSpan'\n",
    ")"
   ]
  },
  {
   "cell_type": "code",
   "execution_count": 3,
   "id": "d07f1800",
   "metadata": {},
   "outputs": [],
   "source": [
    "from lean_dojo import trace"
   ]
  },
  {
   "cell_type": "code",
   "execution_count": 4,
   "id": "4e2ebbc1",
   "metadata": {},
   "outputs": [
    {
     "name": "stderr",
     "output_type": "stream",
     "text": [
      "\u001b[32m2025-10-30 23:50:30.073\u001b[0m | \u001b[1mINFO    \u001b[0m | \u001b[36mlean_dojo.data_extraction.trace\u001b[0m:\u001b[36mget_traced_repo_path\u001b[0m:\u001b[36m210\u001b[0m - \u001b[1mTracing LeanGitRepo(url='https://github.com/leanprover-community/mathlib4', commit='68abb997e5168875b210d31c6c31588b0998db03')\u001b[0m\n"
     ]
    },
    {
     "ename": "CalledProcessError",
     "evalue": "Command 'lake build' returned non-zero exit status 1.",
     "output_type": "error",
     "traceback": [
      "\u001b[31m---------------------------------------------------------------------------\u001b[39m",
      "\u001b[31mCalledProcessError\u001b[39m                        Traceback (most recent call last)",
      "\u001b[36mCell\u001b[39m\u001b[36m \u001b[39m\u001b[32mIn[4]\u001b[39m\u001b[32m, line 1\u001b[39m\n\u001b[32m----> \u001b[39m\u001b[32m1\u001b[39m traced_repo = \u001b[43mtrace\u001b[49m\u001b[43m(\u001b[49m\u001b[43mvalidator\u001b[49m\u001b[43m.\u001b[49m\u001b[43mlean_wrapper\u001b[49m\u001b[43m.\u001b[49m\u001b[43mrepo\u001b[49m\u001b[43m)\u001b[49m\n",
      "\u001b[36mFile \u001b[39m\u001b[32mc:\\Users\\Alex E. Sanchez\\Desktop\\Projects\\MAIN\\hybrid-ns-theorem-prover\\hybrid-atp\\venv\\Lib\\site-packages\\lean_dojo\\data_extraction\\trace.py:247\u001b[39m, in \u001b[36mtrace\u001b[39m\u001b[34m(repo, dst_dir, build_deps)\u001b[39m\n\u001b[32m    242\u001b[39m     dst_dir = Path(dst_dir)\n\u001b[32m    243\u001b[39m     \u001b[38;5;28;01massert\u001b[39;00m (\n\u001b[32m    244\u001b[39m         \u001b[38;5;129;01mnot\u001b[39;00m dst_dir.exists()\n\u001b[32m    245\u001b[39m     ), \u001b[33mf\u001b[39m\u001b[33m\"\u001b[39m\u001b[33mThe destination directory \u001b[39m\u001b[38;5;132;01m{\u001b[39;00mdst_dir\u001b[38;5;132;01m}\u001b[39;00m\u001b[33m already exists.\u001b[39m\u001b[33m\"\u001b[39m\n\u001b[32m--> \u001b[39m\u001b[32m247\u001b[39m cached_path = \u001b[43mget_traced_repo_path\u001b[49m\u001b[43m(\u001b[49m\u001b[43mrepo\u001b[49m\u001b[43m,\u001b[49m\u001b[43m \u001b[49m\u001b[43mbuild_deps\u001b[49m\u001b[43m)\u001b[49m\n\u001b[32m    248\u001b[39m logger.info(\u001b[33mf\u001b[39m\u001b[33m\"\u001b[39m\u001b[33mLoading the traced repo from \u001b[39m\u001b[38;5;132;01m{\u001b[39;00mcached_path\u001b[38;5;132;01m}\u001b[39;00m\u001b[33m\"\u001b[39m)\n\u001b[32m    249\u001b[39m traced_repo = TracedRepo.load_from_disk(cached_path, build_deps)\n",
      "\u001b[36mFile \u001b[39m\u001b[32mc:\\Users\\Alex E. Sanchez\\Desktop\\Projects\\MAIN\\hybrid-ns-theorem-prover\\hybrid-atp\\venv\\Lib\\site-packages\\lean_dojo\\data_extraction\\trace.py:213\u001b[39m, in \u001b[36mget_traced_repo_path\u001b[39m\u001b[34m(repo, build_deps)\u001b[39m\n\u001b[32m    211\u001b[39m \u001b[38;5;28;01mwith\u001b[39;00m working_directory() \u001b[38;5;28;01mas\u001b[39;00m tmp_dir:\n\u001b[32m    212\u001b[39m     logger.debug(\u001b[33mf\u001b[39m\u001b[33m\"\u001b[39m\u001b[33mWorking in the temporary directory \u001b[39m\u001b[38;5;132;01m{\u001b[39;00mtmp_dir\u001b[38;5;132;01m}\u001b[39;00m\u001b[33m\"\u001b[39m)\n\u001b[32m--> \u001b[39m\u001b[32m213\u001b[39m     \u001b[43m_trace\u001b[49m\u001b[43m(\u001b[49m\u001b[43mrepo\u001b[49m\u001b[43m,\u001b[49m\u001b[43m \u001b[49m\u001b[43mbuild_deps\u001b[49m\u001b[43m)\u001b[49m\n\u001b[32m    214\u001b[39m     src_dir = tmp_dir / repo.name\n\u001b[32m    215\u001b[39m     traced_repo = TracedRepo.from_traced_files(src_dir, build_deps)\n",
      "\u001b[36mFile \u001b[39m\u001b[32mc:\\Users\\Alex E. Sanchez\\Desktop\\Projects\\MAIN\\hybrid-ns-theorem-prover\\hybrid-atp\\venv\\Lib\\site-packages\\lean_dojo\\data_extraction\\trace.py:140\u001b[39m, in \u001b[36m_trace\u001b[39m\u001b[34m(repo, build_deps)\u001b[39m\n\u001b[32m    138\u001b[39m     \u001b[38;5;28;01mexcept\u001b[39;00m CalledProcessError:\n\u001b[32m    139\u001b[39m         \u001b[38;5;28;01mpass\u001b[39;00m\n\u001b[32m--> \u001b[39m\u001b[32m140\u001b[39m \u001b[43mexecute\u001b[49m\u001b[43m(\u001b[49m\u001b[33;43m\"\u001b[39;49m\u001b[33;43mlake build\u001b[39;49m\u001b[33;43m\"\u001b[39;49m\u001b[43m)\u001b[49m\n\u001b[32m    142\u001b[39m \u001b[38;5;66;03m# Copy the Lean 4 stdlib into the path of packages.\u001b[39;00m\n\u001b[32m    143\u001b[39m lean_prefix = execute(\u001b[33mf\u001b[39m\u001b[33m\"\u001b[39m\u001b[33mlean --print-prefix\u001b[39m\u001b[33m\"\u001b[39m, capture_output=\u001b[38;5;28;01mTrue\u001b[39;00m)[\u001b[32m0\u001b[39m].strip()\n",
      "\u001b[36mFile \u001b[39m\u001b[32mc:\\Users\\Alex E. Sanchez\\Desktop\\Projects\\MAIN\\hybrid-ns-theorem-prover\\hybrid-atp\\venv\\Lib\\site-packages\\lean_dojo\\utils.py:110\u001b[39m, in \u001b[36mexecute\u001b[39m\u001b[34m(cmd, capture_output)\u001b[39m\n\u001b[32m    100\u001b[39m \u001b[38;5;250m\u001b[39m\u001b[33;03m\"\"\"Execute the shell command ``cmd`` and optionally return its output.\u001b[39;00m\n\u001b[32m    101\u001b[39m \n\u001b[32m    102\u001b[39m \u001b[33;03mArgs:\u001b[39;00m\n\u001b[32m   (...)\u001b[39m\u001b[32m    107\u001b[39m \u001b[33;03m    Optional[Tuple[str, str]]: The command's output, including stdout and stderr (None if ``capture_output == False``).\u001b[39;00m\n\u001b[32m    108\u001b[39m \u001b[33;03m\"\"\"\u001b[39;00m\n\u001b[32m    109\u001b[39m logger.debug(cmd)\n\u001b[32m--> \u001b[39m\u001b[32m110\u001b[39m res = \u001b[43msubprocess\u001b[49m\u001b[43m.\u001b[49m\u001b[43mrun\u001b[49m\u001b[43m(\u001b[49m\u001b[43mcmd\u001b[49m\u001b[43m,\u001b[49m\u001b[43m \u001b[49m\u001b[43mshell\u001b[49m\u001b[43m=\u001b[49m\u001b[38;5;28;43;01mTrue\u001b[39;49;00m\u001b[43m,\u001b[49m\u001b[43m \u001b[49m\u001b[43mcapture_output\u001b[49m\u001b[43m=\u001b[49m\u001b[43mcapture_output\u001b[49m\u001b[43m,\u001b[49m\u001b[43m \u001b[49m\u001b[43mcheck\u001b[49m\u001b[43m=\u001b[49m\u001b[38;5;28;43;01mTrue\u001b[39;49;00m\u001b[43m)\u001b[49m\n\u001b[32m    111\u001b[39m \u001b[38;5;28;01mif\u001b[39;00m \u001b[38;5;129;01mnot\u001b[39;00m capture_output:\n\u001b[32m    112\u001b[39m     \u001b[38;5;28;01mreturn\u001b[39;00m \u001b[38;5;28;01mNone\u001b[39;00m\n",
      "\u001b[36mFile \u001b[39m\u001b[32mC:\\Program Files\\WindowsApps\\PythonSoftwareFoundation.Python.3.11_3.11.2544.0_x64__qbz5n2kfra8p0\\Lib\\subprocess.py:571\u001b[39m, in \u001b[36mrun\u001b[39m\u001b[34m(input, capture_output, timeout, check, *popenargs, **kwargs)\u001b[39m\n\u001b[32m    569\u001b[39m     retcode = process.poll()\n\u001b[32m    570\u001b[39m     \u001b[38;5;28;01mif\u001b[39;00m check \u001b[38;5;129;01mand\u001b[39;00m retcode:\n\u001b[32m--> \u001b[39m\u001b[32m571\u001b[39m         \u001b[38;5;28;01mraise\u001b[39;00m CalledProcessError(retcode, process.args,\n\u001b[32m    572\u001b[39m                                  output=stdout, stderr=stderr)\n\u001b[32m    573\u001b[39m \u001b[38;5;28;01mreturn\u001b[39;00m CompletedProcess(process.args, retcode, stdout, stderr)\n",
      "\u001b[31mCalledProcessError\u001b[39m: Command 'lake build' returned non-zero exit status 1."
     ]
    }
   ],
   "source": [
    "traced_repo = trace(validator.lean_wrapper.repo)"
   ]
  },
  {
   "cell_type": "code",
   "execution_count": null,
   "id": "0afe6b2c",
   "metadata": {},
   "outputs": [],
   "source": []
  }
 ],
 "metadata": {
  "kernelspec": {
   "display_name": "venv",
   "language": "python",
   "name": "python3"
  },
  "language_info": {
   "codemirror_mode": {
    "name": "ipython",
    "version": 3
   },
   "file_extension": ".py",
   "mimetype": "text/x-python",
   "name": "python",
   "nbconvert_exporter": "python",
   "pygments_lexer": "ipython3",
   "version": "3.11.9"
  }
 },
 "nbformat": 4,
 "nbformat_minor": 5
}
