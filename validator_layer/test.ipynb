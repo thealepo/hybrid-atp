{
 "cells": [
  {
   "cell_type": "code",
   "execution_count": 2,
   "id": "1de796c7",
   "metadata": {},
   "outputs": [],
   "source": [
    "from lean_dojo import Theorem , Dojo"
   ]
  },
  {
   "cell_type": "code",
   "execution_count": 3,
   "id": "c70ab723",
   "metadata": {},
   "outputs": [
    {
     "data": {
      "text/plain": [
       "['__annotations__',\n",
       " '__class__',\n",
       " '__delattr__',\n",
       " '__dict__',\n",
       " '__dir__',\n",
       " '__doc__',\n",
       " '__enter__',\n",
       " '__eq__',\n",
       " '__exit__',\n",
       " '__format__',\n",
       " '__ge__',\n",
       " '__getattribute__',\n",
       " '__getstate__',\n",
       " '__gt__',\n",
       " '__hash__',\n",
       " '__init__',\n",
       " '__init_subclass__',\n",
       " '__le__',\n",
       " '__lt__',\n",
       " '__module__',\n",
       " '__ne__',\n",
       " '__new__',\n",
       " '__reduce__',\n",
       " '__reduce_ex__',\n",
       " '__repr__',\n",
       " '__setattr__',\n",
       " '__sizeof__',\n",
       " '__str__',\n",
       " '__subclasshook__',\n",
       " '__weakref__',\n",
       " '_check_alive',\n",
       " '_get_imports',\n",
       " '_get_modified_proof',\n",
       " '_locate_traced_file',\n",
       " '_modify_file',\n",
       " '_post_process',\n",
       " '_read_next_line',\n",
       " '_submit_request',\n",
       " 'has_timedout',\n",
       " 'is_crashed',\n",
       " 'is_successful',\n",
       " 'run_cmd',\n",
       " 'run_tac',\n",
       " 'uses_commands',\n",
       " 'uses_tactics']"
      ]
     },
     "execution_count": 3,
     "metadata": {},
     "output_type": "execute_result"
    }
   ],
   "source": [
    "dir(Dojo)"
   ]
  },
  {
   "cell_type": "code",
   "execution_count": null,
   "id": "4811b100",
   "metadata": {},
   "outputs": [],
   "source": []
  }
 ],
 "metadata": {
  "kernelspec": {
   "display_name": "venv",
   "language": "python",
   "name": "python3"
  },
  "language_info": {
   "codemirror_mode": {
    "name": "ipython",
    "version": 3
   },
   "file_extension": ".py",
   "mimetype": "text/x-python",
   "name": "python",
   "nbconvert_exporter": "python",
   "pygments_lexer": "ipython3",
   "version": "3.11.9"
  }
 },
 "nbformat": 4,
 "nbformat_minor": 5
}
